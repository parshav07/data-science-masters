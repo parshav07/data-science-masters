{
 "cells": [
  {
   "cell_type": "markdown",
   "id": "daedf33b-718f-4412-91a1-3a7473568725",
   "metadata": {},
   "source": [
    "### nested loop"
   ]
  },
  {
   "cell_type": "code",
   "execution_count": 6,
   "id": "33b296e9-92ea-4876-b2e2-844fb00f3050",
   "metadata": {},
   "outputs": [
    {
     "name": "stdout",
     "output_type": "stream",
     "text": [
      "@ \n",
      "@ @ \n",
      "@ @ @ \n",
      "@ @ @ @ \n",
      "@ @ @ @ @ \n",
      "@ @ @ @ @ @ \n",
      "@ @ @ @ @ @ @ \n"
     ]
    }
   ],
   "source": [
    "for i in range(0,7):\n",
    "    for j in range (0,i+1):\n",
    "        print(\"@\",end=\" \")\n",
    "    print(\"\\r\")    "
   ]
  },
  {
   "cell_type": "markdown",
   "id": "69f03486-5418-4439-9adb-f5c48937ba01",
   "metadata": {},
   "source": [
    "### loop controls"
   ]
  },
  {
   "cell_type": "markdown",
   "id": "70902c03-eb08-424e-a06b-92eadb7e1c65",
   "metadata": {},
   "source": [
    "## break and continue"
   ]
  },
  {
   "cell_type": "code",
   "execution_count": 48,
   "id": "47de8975-b7ec-43ef-8eb6-cc57db6cab30",
   "metadata": {},
   "outputs": [
    {
     "name": "stdout",
     "output_type": "stream",
     "text": [
      "mango\n",
      "cherry\n",
      "pineapple\n",
      "fruit is apple\n"
     ]
    }
   ],
   "source": [
    "fruits = [\"mango\",\"cherry\",\"pineapple\",\"apple\",\"banana\",\"santra\"]\n",
    "for i in fruits:\n",
    "    if i==\"apple\":\n",
    "        print(\"fruit is apple\")\n",
    "        break\n",
    "    print(i)"
   ]
  },
  {
   "cell_type": "code",
   "execution_count": 51,
   "id": "26fdeff7-4966-42cf-a646-fe78c54293e7",
   "metadata": {},
   "outputs": [
    {
     "name": "stdout",
     "output_type": "stream",
     "text": [
      "mango\n",
      "cherry\n",
      "pineapple\n",
      "fruit is apple\n",
      "apple\n",
      "banana\n",
      "santra\n"
     ]
    }
   ],
   "source": [
    "fruits = [\"mango\",\"cherry\",\"pineapple\",\"apple\",\"banana\",\"santra\"]\n",
    "for i in fruits:\n",
    "    if i==\"apple\":\n",
    "        print(\"fruit is apple\")\n",
    "        pass\n",
    "    print(i)\n"
   ]
  },
  {
   "cell_type": "code",
   "execution_count": 52,
   "id": "a78efa46-343a-4235-af6c-5e7c95f8a3b5",
   "metadata": {},
   "outputs": [
    {
     "name": "stdout",
     "output_type": "stream",
     "text": [
      "mango\n",
      "cherry\n",
      "pineapple\n",
      "fruit is apple\n",
      "banana\n",
      "santra\n"
     ]
    }
   ],
   "source": [
    "fruits = [\"mango\",\"cherry\",\"pineapple\",\"apple\",\"banana\",\"santra\"]\n",
    "for i in fruits:\n",
    "    if i==\"apple\":\n",
    "        print(\"fruit is apple\")\n",
    "        continue\n",
    "    print(i)"
   ]
  },
  {
   "cell_type": "code",
   "execution_count": 53,
   "id": "0c7b69f8-ece7-4dcc-8c99-5f25446b56fd",
   "metadata": {},
   "outputs": [
    {
     "name": "stdout",
     "output_type": "stream",
     "text": [
      "mango\n",
      "cherry\n",
      "pineapple\n"
     ]
    }
   ],
   "source": [
    "fruits = [\"mango\",\"cherry\",\"pineapple\",\"apple\",\"banana\",\"santra\"]\n",
    "for i in fruits:\n",
    "    if i==\"apple\":\n",
    "       \n",
    "        break\n",
    "    print(i)"
   ]
  },
  {
   "cell_type": "code",
   "execution_count": 54,
   "id": "3155c2ae-191a-499b-9bf2-d3e466ce4559",
   "metadata": {},
   "outputs": [
    {
     "name": "stdout",
     "output_type": "stream",
     "text": [
      "mango\n",
      "cherry\n",
      "pineapple\n",
      "fruit is apple\n",
      "apple\n"
     ]
    }
   ],
   "source": [
    "fruits = [\"mango\",\"cherry\",\"pineapple\",\"apple\",\"banana\",\"santra\"]\n",
    "for i in fruits:\n",
    "    if i==\"apple\":\n",
    "        print(\"fruit is apple\")\n",
    "        print(\"apple\")\n",
    "        break\n",
    "    print(i)"
   ]
  },
  {
   "cell_type": "code",
   "execution_count": null,
   "id": "44cf695c-8bf9-4154-b56f-197ea20f4483",
   "metadata": {},
   "outputs": [],
   "source": []
  }
 ],
 "metadata": {
  "kernelspec": {
   "display_name": "Python 3 (ipykernel)",
   "language": "python",
   "name": "python3"
  },
  "language_info": {
   "codemirror_mode": {
    "name": "ipython",
    "version": 3
   },
   "file_extension": ".py",
   "mimetype": "text/x-python",
   "name": "python",
   "nbconvert_exporter": "python",
   "pygments_lexer": "ipython3",
   "version": "3.10.8"
  }
 },
 "nbformat": 4,
 "nbformat_minor": 5
}
