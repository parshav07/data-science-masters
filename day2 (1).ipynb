{
 "cells": [
  {
   "cell_type": "markdown",
   "id": "31fd538a-d069-45ac-bd54-685347199beb",
   "metadata": {},
   "source": [
    "## format function learnings"
   ]
  },
  {
   "cell_type": "code",
   "execution_count": 7,
   "id": "7f7c5b0e-32a1-4853-b9e6-3fc0af2b2ec5",
   "metadata": {},
   "outputs": [
    {
     "name": "stdout",
     "output_type": "stream",
     "text": [
      "My age is 21 i have completed my bcom in the name of parshav\n"
     ]
    }
   ],
   "source": [
    "name=\"parshav\"\n",
    "age=21\n",
    "degree=\"bcom\"\n",
    "print((\"My age is {} i have completed my {} in the name of {}\").format(age,degree,name))\n",
    "\n"
   ]
  },
  {
   "cell_type": "code",
   "execution_count": 10,
   "id": "7e15bee4-537e-4d94-9ebe-18048d6d2f37",
   "metadata": {},
   "outputs": [
    {
     "name": "stdout",
     "output_type": "stream",
     "text": [
      "My age is 21 i have completed my bcom in the name of parshav\n"
     ]
    }
   ],
   "source": [
    "name=\"parshav\"\n",
    "age=21\n",
    "degree=\"bcom\"\n",
    "print(f\"My age is {age} i have completed my {degree} in the name of {name}\")\n",
    "      "
   ]
  },
  {
   "cell_type": "markdown",
   "id": "2d1b55b2-1c5b-4252-ae61-42bf6f2d1074",
   "metadata": {
    "tags": []
   },
   "source": [
    "## if statements and input functions leanings\n"
   ]
  },
  {
   "cell_type": "code",
   "execution_count": 22,
   "id": "ce4f2734-d7f0-409c-b9f5-8f544de64790",
   "metadata": {},
   "outputs": [
    {
     "name": "stdin",
     "output_type": "stream",
     "text": [
      "enter your age 19\n"
     ]
    },
    {
     "name": "stdout",
     "output_type": "stream",
     "text": [
      "you are a young blood\n"
     ]
    }
   ],
   "source": [
    "age=int(input('enter your age'))\n",
    "if age<=45>=18:\n",
    "              print('you are a young blood')"
   ]
  },
  {
   "cell_type": "code",
   "execution_count": 60,
   "id": "6f9f96be-d0e4-48c9-a4ab-f08cbac3cd9c",
   "metadata": {},
   "outputs": [
    {
     "name": "stdin",
     "output_type": "stream",
     "text": [
      "enter your age 20\n"
     ]
    },
    {
     "name": "stdout",
     "output_type": "stream",
     "text": [
      "you are a young blood\n"
     ]
    }
   ],
   "source": [
    "age=int(input('enter your age'))\n",
    "if age<=45>=18:\n",
    "              print('you are a young blood')\n",
    "else:\n",
    "            print('your are not young enough')"
   ]
  },
  {
   "cell_type": "code",
   "execution_count": 62,
   "id": "746047b6-3c90-4b4e-9fab-35a6f100d14e",
   "metadata": {},
   "outputs": [
    {
     "name": "stdin",
     "output_type": "stream",
     "text": [
      "enter your age 99\n"
     ]
    },
    {
     "name": "stdout",
     "output_type": "stream",
     "text": [
      "your are not young enough you \n"
     ]
    }
   ],
   "source": [
    "age=int(input('enter your age'))\n",
    "if age<=45>=18:\n",
    "              print('you are a young blood')\n",
    "else:\n",
    "            print('your are not young enough you ')"
   ]
  },
  {
   "cell_type": "markdown",
   "id": "0c5036f1-73e1-4a3a-8d85-5a16dee48111",
   "metadata": {},
   "source": [
    "## nested else if statements with input functions"
   ]
  },
  {
   "cell_type": "code",
   "execution_count": 63,
   "id": "7e39dc82-5bc2-42ac-80b1-a9d5a5b1f1b3",
   "metadata": {},
   "outputs": [
    {
     "name": "stdin",
     "output_type": "stream",
     "text": [
      "ente the price 10000\n"
     ]
    },
    {
     "name": "stdout",
     "output_type": "stream",
     "text": [
      "finalprice-7500.0\n"
     ]
    }
   ],
   "source": [
    "MRP=int(input(\"ente the price\"))\n",
    "if MRP>=1000 and MRP<=9999:\n",
    "    \n",
    "        print(('finalprice-{}').format(MRP*0.8))\n",
    "if MRP>=10000:\n",
    "  \n",
    "      print(('finalprice-{}').format(MRP*0.75))\n",
    "else:\n",
    "    print((\"final price-{}\").format(MRP*1))\n",
    "    \n",
    "    "
   ]
  },
  {
   "cell_type": "markdown",
   "id": "55c3e2e9-025f-4da0-99fb-7779e54f822a",
   "metadata": {},
   "source": [
    "## loops"
   ]
  },
  {
   "cell_type": "code",
   "execution_count": 76,
   "id": "a0766414-9403-4ec3-94d4-8330b86e39ef",
   "metadata": {},
   "outputs": [
    {
     "name": "stdout",
     "output_type": "stream",
     "text": [
      "10000\n",
      "9000\n",
      "8000\n",
      "7000\n",
      "6000\n",
      "5000\n",
      "4000\n",
      "3000\n",
      "2000\n",
      "1000\n",
      "insufficiant balance\n"
     ]
    }
   ],
   "source": [
    "total_money=10000\n",
    "while total_money!=0:\n",
    "    print(total_money)\n",
    "    total_money=total_money-1000\n",
    "else: print('insufficiant balance')      "
   ]
  },
  {
   "cell_type": "markdown",
   "id": "e4ec4ad7-58bf-450c-8983-db1b23956098",
   "metadata": {},
   "source": [
    "## nested loops"
   ]
  },
  {
   "cell_type": "code",
   "execution_count": null,
   "id": "1cd9ce74-53f5-4ae9-b32e-6cf022e0f614",
   "metadata": {},
   "outputs": [],
   "source": []
  },
  {
   "cell_type": "code",
   "execution_count": null,
   "id": "bd997490-cc27-40f7-9ccd-095f9c3fbb28",
   "metadata": {},
   "outputs": [],
   "source": []
  },
  {
   "cell_type": "code",
   "execution_count": null,
   "id": "178e25c7-dd8e-4347-8d9f-8ca4fd9c0c68",
   "metadata": {},
   "outputs": [],
   "source": []
  }
 ],
 "metadata": {
  "kernelspec": {
   "display_name": "Python 3 (ipykernel)",
   "language": "python",
   "name": "python3"
  },
  "language_info": {
   "codemirror_mode": {
    "name": "ipython",
    "version": 3
   },
   "file_extension": ".py",
   "mimetype": "text/x-python",
   "name": "python",
   "nbconvert_exporter": "python",
   "pygments_lexer": "ipython3",
   "version": "3.10.8"
  }
 },
 "nbformat": 4,
 "nbformat_minor": 5
}
